{
 "cells": [
  {
   "cell_type": "code",
   "execution_count": 3,
   "id": "43fd48b9-f56a-46af-a768-0d8ef9815030",
   "metadata": {},
   "outputs": [],
   "source": [
    "import numpy as np \n",
    "from scipy.linalg import null_space"
   ]
  },
  {
   "cell_type": "code",
   "execution_count": 19,
   "id": "077d7ca4-d897-476d-b43c-9af3870f974e",
   "metadata": {},
   "outputs": [
    {
     "name": "stdout",
     "output_type": "stream",
     "text": [
      "Matriz A: \n",
      " [[1 1 0]\n",
      " [1 1 0]]\n",
      "\n",
      "Matriz B: \n",
      " [[1 1 1]\n",
      " [2 2 4]\n",
      " [2 3 5]]\n",
      "\n",
      "Matriz Ejemplo: \n",
      " [[1 2 3]\n",
      " [4 5 6]\n",
      " [7 8 9]]\n"
     ]
    }
   ],
   "source": [
    "#Matriz A\n",
    "A = np.matrix([ [1,1,0], [1,1,0] ]) \n",
    "print(\"Matriz A: \\n\",A)\n",
    "#Matriz B\n",
    "B1 = np.matrix([ [1,1,1],[2,2,4],[2,3,5] ])\n",
    "print(\"\\nMatriz B: \\n\",B1)\n",
    "\n",
    "ejemplo = np.matrix([ [1,2,3],[4,5,6],[7,8,9] ])\n",
    "print(\"\\nMatriz Ejemplo: \\n\",ejemplo)"
   ]
  },
  {
   "cell_type": "code",
   "execution_count": 20,
   "id": "4978455c-40ec-46f9-9026-26a982f2e1d5",
   "metadata": {},
   "outputs": [
    {
     "name": "stdout",
     "output_type": "stream",
     "text": [
      "Nucleo de la matriz A:\n",
      " [[-0.70710678  0.        ]\n",
      " [ 0.70710678  0.        ]\n",
      " [ 0.          1.        ]]\n",
      "Nucleo de la matriz B:\n",
      " []\n",
      "Nucleo de la matriz Ejemplo:\n",
      " [[-0.40824829]\n",
      " [ 0.81649658]\n",
      " [-0.40824829]]\n"
     ]
    }
   ],
   "source": [
    "#Calculo del nucleo de la matriz A y B\n",
    "\n",
    "nucleo = null_space(A)\n",
    "print(\"Nucleo de la matriz A:\\n\", nucleo)\n",
    "\n",
    "nucleo2 = null_space(B1)\n",
    "print(\"Nucleo de la matriz B:\\n\", nucleo2)\n",
    "\n",
    "nucleo3 = null_space(ejemplo)\n",
    "print(\"Nucleo de la matriz Ejemplo:\\n\", nucleo3)"
   ]
  }
 ],
 "metadata": {
  "kernelspec": {
   "display_name": "Python 3 (ipykernel)",
   "language": "python",
   "name": "python3"
  },
  "language_info": {
   "codemirror_mode": {
    "name": "ipython",
    "version": 3
   },
   "file_extension": ".py",
   "mimetype": "text/x-python",
   "name": "python",
   "nbconvert_exporter": "python",
   "pygments_lexer": "ipython3",
   "version": "3.12.5"
  }
 },
 "nbformat": 4,
 "nbformat_minor": 5
}
